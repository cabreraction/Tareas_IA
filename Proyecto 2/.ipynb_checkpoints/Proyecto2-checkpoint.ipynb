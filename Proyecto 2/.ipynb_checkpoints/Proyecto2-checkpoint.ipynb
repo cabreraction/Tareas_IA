{
 "cells": [
  {
   "cell_type": "markdown",
   "id": "1e5f7379",
   "metadata": {},
   "source": [
    "# Exploracion Inicial\n",
    "### El objetivo es deducir el numero de clusters a encontrar"
   ]
  },
  {
   "cell_type": "code",
   "execution_count": 1,
   "id": "43e8f004",
   "metadata": {},
   "outputs": [
    {
     "data": {
      "image/png": "[encoded data removed]",
      "text/plain": [
       "<Figure size 432x288 with 1 Axes>"
      ]
     },
     "metadata": {
      "needs_background": "light"
     },
     "output_type": "display_data"
    },
    {
     "data": {
      "text/plain": [
       "'\\nSegun la grafica hay tres grupos claramente divisibles\\n'"
      ]
     },
     "execution_count": 1,
     "metadata": {},
     "output_type": "execute_result"
    }
   ],
   "source": [
    "import warnings\n",
    "import matplotlib.pyplot as plt\n",
    "import numpy as np\n",
    "from sklearn.cluster import KMeans\n",
    "\n",
    "warnings.filterwarnings('ignore')\n",
    "meds = [[8,2], [9,7], [2,12], [9,1], [10,7], [3,14], [8,1], [1,13]]\n",
    "clustersData = np.array(meds)\n",
    "plt.scatter(clustersData[:,0], clustersData[:,1])\n",
    "plt.xlabel('Efectividad Teorica')\n",
    "plt.ylabel('Ph Balanceado')\n",
    "plt.show()\n",
    "\n",
    "'''\n",
    "Segun la grafica hay tres grupos claramente divisibles\n",
    "'''"
   ]
  },
  {
   "cell_type": "markdown",
   "id": "9b930c00",
   "metadata": {},
   "source": [
    "## Primera iteracion haciendo uso del centroide especificado (10, 7)"
   ]
  },
  {
   "cell_type": "code",
   "execution_count": 2,
   "id": "c64d3903",
   "metadata": {},
   "outputs": [
    {
     "ename": "NameError",
     "evalue": "name 'X' is not defined",
     "output_type": "error",
     "traceback": [
      "\u001b[1;31m---------------------------------------------------------------------------\u001b[0m",
      "\u001b[1;31mNameError\u001b[0m                                 Traceback (most recent call last)",
      "\u001b[1;32m<ipython-input-2-02885c948c96>\u001b[0m in \u001b[0;36m<module>\u001b[1;34m\u001b[0m\n\u001b[0;32m      2\u001b[0m \u001b[0minitialCentroid\u001b[0m \u001b[1;33m=\u001b[0m \u001b[0mnp\u001b[0m\u001b[1;33m.\u001b[0m\u001b[0marray\u001b[0m\u001b[1;33m(\u001b[0m\u001b[1;33m[\u001b[0m\u001b[1;33m[\u001b[0m\u001b[1;36m10\u001b[0m\u001b[1;33m,\u001b[0m\u001b[1;36m7\u001b[0m\u001b[1;33m]\u001b[0m\u001b[1;33m]\u001b[0m\u001b[1;33m)\u001b[0m\u001b[1;33m\u001b[0m\u001b[1;33m\u001b[0m\u001b[0m\n\u001b[0;32m      3\u001b[0m \u001b[0mkmeans\u001b[0m \u001b[1;33m=\u001b[0m \u001b[0mKMeans\u001b[0m\u001b[1;33m(\u001b[0m\u001b[0mn_clusters\u001b[0m\u001b[1;33m=\u001b[0m\u001b[1;36m1\u001b[0m\u001b[1;33m,\u001b[0m \u001b[0minit\u001b[0m\u001b[1;33m=\u001b[0m\u001b[0minitialCentroid\u001b[0m\u001b[1;33m,\u001b[0m \u001b[0mn_init\u001b[0m\u001b[1;33m=\u001b[0m\u001b[1;36m1\u001b[0m\u001b[1;33m)\u001b[0m\u001b[1;33m\u001b[0m\u001b[1;33m\u001b[0m\u001b[0m\n\u001b[1;32m----> 4\u001b[1;33m \u001b[0mkmeans\u001b[0m\u001b[1;33m.\u001b[0m\u001b[0mfit\u001b[0m\u001b[1;33m(\u001b[0m\u001b[0mX\u001b[0m\u001b[1;33m)\u001b[0m\u001b[1;33m\u001b[0m\u001b[1;33m\u001b[0m\u001b[0m\n\u001b[0m\u001b[0;32m      5\u001b[0m \u001b[1;33m\u001b[0m\u001b[0m\n\u001b[0;32m      6\u001b[0m \u001b[0mprint\u001b[0m\u001b[1;33m(\u001b[0m\u001b[0mkmeans\u001b[0m\u001b[1;33m.\u001b[0m\u001b[0mcluster_centers_\u001b[0m\u001b[1;33m)\u001b[0m\u001b[1;33m\u001b[0m\u001b[1;33m\u001b[0m\u001b[0m\n",
      "\u001b[1;31mNameError\u001b[0m: name 'X' is not defined"
     ]
    }
   ],
   "source": [
    "# Primera iteracion haciendo uso del centroide especificado\n",
    "initialCentroid = np.array([[10,7]])\n",
    "kmeans = KMeans(n_clusters=1, init=initialCentroid, n_init=1)\n",
    "kmeans.fit(clustersData)\n",
    "\n",
    "print(kmeans.cluster_centers_)"
   ]
  },
  {
   "cell_type": "markdown",
   "id": "de2fc317",
   "metadata": {},
   "source": [
    "## Segunda iteracion haciendo uso del nuevo centroide encontrado y aumentando los clusters a 2"
   ]
  },
  {
   "cell_type": "code",
   "execution_count": 12,
   "id": "528931d3",
   "metadata": {},
   "outputs": [
    {
     "name": "stdout",
     "output_type": "stream",
     "text": [
      "[[ 8.8  3.6]\n",
      " [ 2.  13. ]]\n"
     ]
    }
   ],
   "source": [
    "initialCentroid = np.array([[10,7], [6.25, 7.125]])\n",
    "kmeans = KMeans(n_clusters=2, init=initialCentroid, n_init=1)\n",
    "kmeans.fit(X)\n",
    "\n",
    "print(kmeans.cluster_centers_)"
   ]
  },
  {
   "cell_type": "markdown",
   "id": "75433033",
   "metadata": {},
   "source": [
    "## Tercer iteracion haciendo uso de los nuevos centroides encontrados y aumentando los clusters a 3"
   ]
  },
  {
   "cell_type": "code",
   "execution_count": 14,
   "id": "ff627bd8",
   "metadata": {},
   "outputs": [
    {
     "name": "stdout",
     "output_type": "stream",
     "text": [
      "[[ 9.5         7.        ]\n",
      " [ 8.33333333  1.33333333]\n",
      " [ 2.         13.        ]]\n"
     ]
    }
   ],
   "source": [
    "initialCentroid = np.array([[6.25, 7.125], [8.8, 3.6], [2, 13]])\n",
    "kmeans = KMeans(n_clusters=3, init=initialCentroid, n_init=1)\n",
    "kmeans.fit(X)\n",
    "\n",
    "print(kmeans.cluster_centers_)"
   ]
  },
  {
   "cell_type": "code",
   "execution_count": 3,
   "id": "958cf503",
   "metadata": {},
   "outputs": [],
   "source": [
    "import warnings"
   ]
  },
  {
   "cell_type": "code",
   "execution_count": null,
   "id": "bb7d0d52",
   "metadata": {},
   "outputs": [],
   "source": []
  }
 ],
 "metadata": {
  "kernelspec": {
   "display_name": "Python 3",
   "language": "python",
   "name": "python3"
  },
  "language_info": {
   "codemirror_mode": {
    "name": "ipython",
    "version": 3
   },
   "file_extension": ".py",
   "mimetype": "text/x-python",
   "name": "python",
   "nbconvert_exporter": "python",
   "pygments_lexer": "ipython3",
   "version": "3.8.8"
  }
 },
 "nbformat": 4,
 "nbformat_minor": 5
}
